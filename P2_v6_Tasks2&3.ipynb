{
 "cells": [
  {
   "cell_type": "markdown",
   "metadata": {
    "colab_type": "text",
    "id": "4NzyqehHjUlG"
   },
   "source": [
    "# ML in Cybersecurity: Project II\n",
    "\n",
    "## Team\n",
    "  * **Team name**:  *Watchers on the wall*\n",
    "  * **Members**:  \n",
    "  * **Chirag Bhuvaneshwara(s8chbhuv@stud-uni.saarland.de), 2571703** \n",
    "  * **Vedika Agarwal (s8veagar@stud-uni.saarland.de), 2571203** \n",
    "  * **Kushboo Mehra (s8khmehr@stud.uni-saarland.de), 2576512**\n",
    "  * **Tutor**: *Tribuhu*\n",
    "\n",
    "\n",
    "## Logistics\n",
    "  * **Due date**: 9th December 2018, 23:59:59 (to email the completed notebook to your respective tutors). We deduct 25% points for late submissions.\n",
    "  * Complete this in the previously established **teams of 3**\n",
    "  * Each team will be assigned a tutor. Mail the notebook (**do NOT share a link**) to the respective TAs before the due date.\n",
    "  \n",
    "  \n",
    "## Timeline\n",
    "  * 19-Nov-2018: Project 2 hand-out\n",
    "  * **09-Dec-2018** (23:59:59): Email completed notebook to respective TAs\n",
    "  * **10-Dec-2018** (12:15-14:00, regular tutorial slot): Teams present their projects\n",
    "  * 17-Dec-2018 (12:15-14:00, regular tutorial slot): Project 2 discussion and summary\n",
    "  \n",
    "  \n",
    "## About this Project\n",
    "In this project, we dive into the vulnerabilities of machine learning models and the difficulties of defending them. To this end, we require you to implement an evasion attack (craft adversarial examples) yourselves, and defend your own model.   \n",
    "\n",
    "\n",
    "## A Note on Grading\n",
    "The total number of points in this project is 100. We further provide the number of points achievable with each excercise. You should take particular care to document and visualize your results, though.\n",
    " \n",
    "We will evaluate this criteria in a presentation as for project 1. This will be during the regular tutorial slot on 10th December 12:00-14:00 (same location as last time). In case you have time restrictions during the time of the tutorial, notify us asap!  You can present on your laptops.\n",
    " \n",
    " \n",
    "## Filling-in the Notebook\n",
    "You'll be submitting this very notebook that is filled-in with (all!) your code and analysis. Make sure you submit one that has been previously executed in-order. (So that results/graphs are already visible upon opening it). \n",
    "\n",
    "The notebook you submit **should compile** (or should be self-contained and sufficiently commented). Check tutorial 1 on how to set up the Python3 environment.\n",
    "\n",
    "It is extremely important that you **do not** re-order the existing sections. Apart from that, the code blocks that you need to fill-in are given by:\n",
    "```\n",
    "#\n",
    "#\n",
    "# ------- Your Code -------\n",
    "#\n",
    "#\n",
    "```\n",
    "Feel free to break this into multiple-cells. It's even better if you interleave explanations and code-blocks so that the entire notebook forms a readable \"story\".\n",
    "\n",
    "\n",
    "## Code of Honor\n",
    "We encourage discussing ideas and concepts with other students to help you learn and better understand the course content. However, the work you submit and present **must be original** and demonstrate your effort in solving the presented problems. **We will not tolerate** blatantly using existing solutions (such as from the internet), improper collaboration (e.g., sharing code or experimental data between groups) and plagiarism. If the honor code is not met, no points will be awarded.\n",
    "\n",
    " \n",
    " ## Versions\n",
    "  * v1.0: Initial notebook\n",
    " \n",
    "  ---"
   ]
  },
  {
   "cell_type": "code",
   "execution_count": 1,
   "metadata": {
    "ExecuteTime": {
     "end_time": "2019-02-02T02:40:18.644424Z",
     "start_time": "2019-02-02T02:40:11.816624Z"
    },
    "colab": {},
    "colab_type": "code",
    "id": "3ewNwfFvbFaR"
   },
   "outputs": [],
   "source": [
    "import time \n",
    " \n",
    "import numpy as np \n",
    "import matplotlib.pyplot as plt \n",
    "\n",
    "import json \n",
    "import time \n",
    "import pickle \n",
    "import sys \n",
    "import csv \n",
    "import os \n",
    "import os.path as osp \n",
    "import shutil \n",
    "\n",
    "import pandas as pd\n",
    "\n",
    "from IPython.display import display, HTML\n",
    " \n",
    "%matplotlib inline \n",
    "plt.rcParams['figure.figsize'] = (10.0, 8.0) # set default size of plots \n",
    "plt.rcParams['image.interpolation'] = 'nearest' \n",
    "plt.rcParams['image.cmap'] = 'gray' \n",
    " \n",
    "# for auto-reloading external modules \n",
    "# see http://stackoverflow.com/questions/1907993/autoreload-of-modules-in-ipython \n",
    "%load_ext autoreload\n",
    "%autoreload 2"
   ]
  },
  {
   "cell_type": "code",
   "execution_count": 2,
   "metadata": {
    "ExecuteTime": {
     "end_time": "2019-02-02T02:40:40.538153Z",
     "start_time": "2019-02-02T02:40:18.650455Z"
    },
    "colab": {},
    "colab_type": "code",
    "id": "640GrzbOevr0"
   },
   "outputs": [
    {
     "name": "stderr",
     "output_type": "stream",
     "text": [
      "C:\\Users\\Chirag Bhuvaneshwara\\Documents\\Softwares\\Anaconda3\\lib\\site-packages\\h5py\\__init__.py:36: FutureWarning: Conversion of the second argument of issubdtype from `float` to `np.floating` is deprecated. In future, it will be treated as `np.float64 == np.dtype(float).type`.\n",
      "  from ._conv import register_converters as _register_converters\n",
      "Using TensorFlow backend.\n"
     ]
    }
   ],
   "source": [
    "# Load other libraries here.\n",
    "# Keep it minimal! We should be easily able to reproduce your code.\n",
    "import tensorflow as tf\n",
    "import keras\n",
    "\n",
    "from keras.datasets import mnist\n",
    "from keras.models import Sequential\n",
    "from keras.layers import Dense, Dropout, Flatten, Conv2D, MaxPooling2D\n",
    "from keras.layers.normalization import BatchNormalization\n",
    "from keras.utils import np_utils\n",
    "from random import randint\n",
    "\n",
    "from keras.wrappers.scikit_learn import KerasClassifier\n",
    "from sklearn.model_selection import ParameterGrid\n",
    "from sklearn.datasets import make_classification\n",
    "\n",
    "\n",
    "import numpy as np\n",
    "from keras import backend\n",
    "from keras.models import load_model\n",
    "import tensorflow as tf\n",
    "import random\n",
    "\n",
    "from cleverhans.attacks import FastGradientMethod\n",
    "from cleverhans.attacks import BasicIterativeMethod\n",
    "from cleverhans.utils_keras import KerasModelWrapper\n",
    "from cleverhans.attacks import SaliencyMapMethod\n",
    "from cleverhans.attacks import BasicIterativeMethod\n",
    "from cleverhans.attacks import CarliniWagnerL2\n",
    "from cleverhans.attacks import ElasticNetMethod\n",
    "\n",
    "from keras.models import load_model\n",
    "# In case you want to use neural networks, we only support sklearn and keras (With a tensorflow backend)."
   ]
  },
  {
   "cell_type": "markdown",
   "metadata": {
    "colab_type": "text",
    "id": "nxi-lLD0mKHD"
   },
   "source": [
    "#### Helpers\n",
    "\n",
    "In case you choose to have some methods you plan to reuse during the notebook, define them here. This will avoid clutter and keep rest of the notebook succinct."
   ]
  },
  {
   "cell_type": "code",
   "execution_count": 3,
   "metadata": {
    "ExecuteTime": {
     "end_time": "2019-02-02T02:40:40.997684Z",
     "start_time": "2019-02-02T02:40:40.541585Z"
    },
    "colab": {},
    "colab_type": "code",
    "id": "VBbigqdEmKd8"
   },
   "outputs": [],
   "source": [
    "def identity_func(foo):\n",
    "    return foo\n",
    "\n",
    "\n",
    "def rawData(dataSet, labels, random_state):  # Gets the 1000 random images from mnist train set\n",
    "    \n",
    "    rawdata = np.array([]).reshape(0,28,28)\n",
    "    rawlabels = np.array([])\n",
    "    \n",
    "    random.seed(random_state)\n",
    "    \n",
    "    needed = random.sample(range(1, 60000), 1000)\n",
    "    \n",
    "    for i in needed:\n",
    "        rawdata =  np.r_[rawdata, [dataset[i,:,:]]]\n",
    "        rawlabels =  np.r_[rawlabels, [labels[i]]]\n",
    "        \n",
    "    return (rawdata, rawlabels)\n",
    "\n",
    "def randImgs(digit, x_train, y_train, random_state, max_count = 1): # Gets 1 adversarial image for 1 label for plotting\n",
    "    \"\"\"\n",
    "    digit: one from the 0 - 9 MNIST classes\n",
    "    x_train: Training data\n",
    "    y_train: Corresponding labels\n",
    "    max_count: required no. of images of the digit, assumed to be even\n",
    "    \"\"\"\n",
    "    rand_samples = []\n",
    "    random.seed(random_state)\n",
    "    \n",
    "    count = 0\n",
    "    while count < max_count:\n",
    "\n",
    "        index = random.randint(1,1000)\n",
    "\n",
    "        if y_train[index] == digit:\n",
    "            rand_samples += [(x_train[index].reshape(28,28))]\n",
    "            count += 1\n",
    "\n",
    "    return rand_samples\n",
    "    \n",
    "    \n",
    "def plot_samples(samples): \n",
    "    \n",
    "    n = len(samples)\n",
    "    for i in range(1, n):\n",
    "        \n",
    "        plt.subplot(n/2,n/2,i)\n",
    "        plt.imshow(samples[i])\n",
    "\n",
    "def randSetImgs(dataset, labels, random_state): # Gets 1 adversarial image for each label for plotting\n",
    "    \n",
    "    rand_samples = []\n",
    "    for digit in range(0,10):\n",
    "        rand_samples += randImgs(digit, dataset, labels, random_state)\n",
    "    \n",
    "    return rand_samples"
   ]
  },
  {
   "cell_type": "markdown",
   "metadata": {
    "colab_type": "text",
    "id": "n1pcmKkyjT7y"
   },
   "source": [
    "# 1. Attacking an ML-model\n",
    "\n",
    "In this section, we implement an attack ourselves. We then leverage the Cleverhans library to craft adversarial examples. First, however, you need a model you can attack. Feel free to choose the DNN/ConvNN from your last project.\n",
    "\n",
    "Hint: you might want to save the trained model to save time later."
   ]
  },
  {
   "cell_type": "markdown",
   "metadata": {
    "colab_type": "text",
    "id": "QaJv_d_Dp7OM"
   },
   "source": [
    "### 1.1.1: Setting up the model (5 Points)\n",
    "\n",
    "Re-use the model from your last project here and train it until it achieves reasonable accuracy (>92%)."
   ]
  },
  {
   "cell_type": "code",
   "execution_count": 4,
   "metadata": {
    "ExecuteTime": {
     "end_time": "2019-02-02T02:40:42.399469Z",
     "start_time": "2019-02-02T02:40:41.002640Z"
    }
   },
   "outputs": [
    {
     "name": "stdout",
     "output_type": "stream",
     "text": [
      "x_train.shape = (60000, 28, 28),  y_train.shape = (60000,)\n",
      "x_test.shape = (10000, 28, 28),  y_test.shape = (10000,)\n",
      "x_train.shape = (60000, 28, 28, 1),  y_train.shape = (60000, 10)\n",
      "x_test.shape = (10000, 28, 28, 1),  y_test.shape = (10000, 10)\n"
     ]
    }
   ],
   "source": [
    "from keras.datasets import mnist\n",
    "from keras.models import Sequential\n",
    "from keras.layers import Dense, Dropout, Flatten, Conv2D, MaxPooling2D\n",
    "from keras.layers.normalization import BatchNormalization\n",
    "from keras.utils import np_utils\n",
    "from random import randint\n",
    "\n",
    "from keras.wrappers.scikit_learn import KerasClassifier\n",
    "from sklearn.model_selection import ParameterGrid\n",
    "from sklearn.datasets import make_classification\n",
    "\n",
    "# Set random seed\n",
    "np.random.seed(0)\n",
    "\n",
    "(x_train, y_train), (x_test, y_test) = mnist.load_data()\n",
    "\n",
    "print('x_train.shape = {},  y_train.shape = {}'.format(x_train.shape, y_train.shape))\n",
    "print('x_test.shape = {},  y_test.shape = {}'.format(x_test.shape, y_test.shape))\n",
    "\n",
    "x_train_plt = x_train\n",
    "y_train_labels=y_train\n",
    "\n",
    "im_size = 784 # 28 x 28\n",
    "# building the input vector from the 28x28 pixels\n",
    "x_train = x_train.reshape(x_train.shape[0], 28, 28,1)\n",
    "x_test = x_test.reshape(x_test.shape[0], 28, 28,1)\n",
    "x_train = x_train.astype('float32')\n",
    "x_test = x_test.astype('float32')\n",
    "\n",
    "# normalizing the data to help with the training\n",
    "x_train /= 255\n",
    "x_test /= 255\n",
    "\n",
    "# Convert class vectors to binary class matrices with one-hot encoding\n",
    "num_classes = 10\n",
    "y_train = keras.utils.to_categorical(y_train, num_classes)\n",
    "y_test = keras.utils.to_categorical(y_test, num_classes)\n",
    "\n",
    "print('x_train.shape = {},  y_train.shape = {}'.format(x_train.shape, y_train.shape))\n",
    "print('x_test.shape = {},  y_test.shape = {}'.format(x_test.shape, y_test.shape))\n",
    "\n",
    "#\n",
    "# Feel free to have multiple variables in case your models are designed for different formats\n",
    "# For instance, in case your model requires Nx28x28 inputs, declare x_trainval_3d, etc.\n",
    "\n",
    "# Tip: Set this to a tiny number (such 0.05) to aid debugging\n",
    "# After all, you do not want to train/evaluate on the entire dataset to find bugs\n",
    "DEBUG_FRAC = 0.05\n",
    "# Resample x_[], y_[]\n",
    "\n",
    "batch_size=128\n",
    "epochs_exp=10\n",
    "epochs_full=50\n",
    "\n",
    "def build_model(params,opt='adam'):\n",
    "  model = Sequential()\n",
    "  k=(params['kernel_size'],params['kernel_size'])\n",
    "  p=(params['pool'],params['pool'])\n",
    "  c=params['conv']\n",
    "  model.add(Conv2D(c, k, activation='relu',padding='same', input_shape=x_train.shape[1:]))\n",
    "  model.add(BatchNormalization(axis=-1))\n",
    "  model.add(MaxPooling2D(pool_size=p))\n",
    "  model.add(Conv2D(c*2, k ,activation='relu', padding='same'))\n",
    "  model.add(BatchNormalization(axis=-1))\n",
    "  model.add(MaxPooling2D(pool_size=p))\n",
    "  model.add(Dropout(params['drop1'])) \n",
    "\n",
    "  model.add(Flatten())\n",
    "  model.add(Dense(params['fc_size'], activation='relu'))\n",
    "  model.add(BatchNormalization())\n",
    "  model.add(Dropout(params['drop2']))\n",
    "  model.add(Dense(num_classes, activation='softmax'))\n",
    "\n",
    "  model.compile(loss='categorical_crossentropy', optimizer=keras.optimizers.Adam(lr=params['lr']), metrics=['accuracy'])\n",
    "  \n",
    "  return model\n",
    "\n",
    "def train(model, batch_size=128, epochs=5):\n",
    "#   model.summary()\n",
    "  history = model.fit(x_train, y_train, batch_size=batch_size, epochs=epochs, validation_split=.2, verbose=True)\n",
    "  return history\n",
    "\n",
    "def evaluate(model):\n",
    "  loss, accuracy  = model.evaluate(x_test, y_test, verbose=False)\n",
    "  print('Test loss: ',loss)\n",
    "  print('Test accuracy: ',accuracy)\n",
    "\n"
   ]
  },
  {
   "cell_type": "code",
   "execution_count": 5,
   "metadata": {
    "ExecuteTime": {
     "end_time": "2019-02-02T02:40:42.881326Z",
     "start_time": "2019-02-02T02:40:42.404028Z"
    }
   },
   "outputs": [],
   "source": [
    "# params={'conv': 32, 'fc_size': 128, 'kernel_size': 3, 'lr': 0.001, 'pool': 2, 'drop1':0.25, 'drop2':0.25}\n",
    "# m = build_model(params)\n",
    "# h = train(m,epochs=10)\n"
   ]
  },
  {
   "cell_type": "code",
   "execution_count": 6,
   "metadata": {
    "ExecuteTime": {
     "end_time": "2019-02-02T02:40:43.232849Z",
     "start_time": "2019-02-02T02:40:42.883396Z"
    },
    "colab": {},
    "colab_type": "code",
    "id": "kZtLgPZrp7h5"
   },
   "outputs": [],
   "source": [
    "# m.save('khush_model.h5')  # creates a HDF5 file \n",
    "# del m  # deletes the existing model# params={'conv': 32, 'fc_size': 128, 'kernel_size': 3, 'lr': 0.001, 'pool': 2, 'drop1':0.25, 'drop2':0.25}\n",
    "# m = build_model(params)\n",
    "# h = train(m,epochs=10)\n"
   ]
  },
  {
   "cell_type": "code",
   "execution_count": 7,
   "metadata": {
    "ExecuteTime": {
     "end_time": "2019-02-02T02:40:46.262626Z",
     "start_time": "2019-02-02T02:40:43.235156Z"
    }
   },
   "outputs": [],
   "source": [
    "keras.backend.set_learning_phase(False)\n",
    "\n",
    "# returns a compiled model\n",
    "model = load_model('khush_model.h5')"
   ]
  },
  {
   "cell_type": "markdown",
   "metadata": {
    "colab_type": "text",
    "id": "DEQrdyLHsUIu"
   },
   "source": [
    "### 1.1.2: Implementing an attack (20 Points)\n",
    "\n",
    "We now want you to attack the model trained in the previous step. You are free to choose any attack from the lecture, or implement your own idea. Take into account that the attacker is stealhy and wants to remain undetected: introduce a small change only! To test your attack, craft one adversarial example for the first occurence of each digit class in the training data."
   ]
  },
  {
   "cell_type": "code",
   "execution_count": null,
   "metadata": {},
   "outputs": [],
   "source": []
  },
  {
   "cell_type": "code",
   "execution_count": 8,
   "metadata": {
    "ExecuteTime": {
     "end_time": "2019-02-02T02:40:46.616562Z",
     "start_time": "2019-02-02T02:40:46.265373Z"
    },
    "colab_type": "text",
    "id": "Fcq52WUUs2Mm"
   },
   "outputs": [],
   "source": [
    "#\n",
    "#\n",
    "# ------- Your Code -------\n",
    "#\n",
    "#"
   ]
  },
  {
   "cell_type": "markdown",
   "metadata": {
    "colab_type": "text",
    "id": "Ex3qQp3JolD1"
   },
   "source": [
    "### 1.1.3: Visualizing the results (5 Points)\n",
    "\n",
    "Please visualize the ten adversarial examples you crafted in the previous step."
   ]
  },
  {
   "cell_type": "code",
   "execution_count": 9,
   "metadata": {
    "ExecuteTime": {
     "end_time": "2019-02-02T02:40:46.953225Z",
     "start_time": "2019-02-02T02:40:46.619535Z"
    },
    "colab": {},
    "colab_type": "code",
    "id": "OrAAlJA1ymiP"
   },
   "outputs": [],
   "source": [
    "#\n",
    "#\n",
    "# ------- Your Code and plots-------\n",
    "#\n",
    "#"
   ]
  },
  {
   "cell_type": "markdown",
   "metadata": {
    "colab_type": "text",
    "id": "iPB-GK1CymiV"
   },
   "source": [
    "### 1.2.1: Using libraries for attacks (20 Points)\n",
    "As the field of evasion attacks (in particular for DNN) is very active research field, several libraries have been published that contain attacks. We will work here with the CleverHans (https://github.com/tensorflow/cleverhans) library. Please implement FGSM and another attack of your choice using this library. Please plot for both attacks the resulting adversarial examples as before, craft however a bigger set of at least 1,000 examples using FGSM. "
   ]
  },
  {
   "cell_type": "code",
   "execution_count": 10,
   "metadata": {
    "ExecuteTime": {
     "end_time": "2019-02-02T02:40:50.937858Z",
     "start_time": "2019-02-02T02:40:46.959160Z"
    }
   },
   "outputs": [],
   "source": [
    "(dataset, labels), (x, y) = mnist.load_data()\n",
    "\n",
    "# Use the same seed to get the same set of 1000 images from 'dataset' variable\n",
    "seed = 27\n",
    "\n",
    "(raw_data, raw_labels) = rawData(dataset, labels, seed)"
   ]
  },
  {
   "cell_type": "code",
   "execution_count": 11,
   "metadata": {
    "ExecuteTime": {
     "end_time": "2019-02-02T02:40:51.310108Z",
     "start_time": "2019-02-02T02:40:50.941618Z"
    }
   },
   "outputs": [],
   "source": [
    "# renaming\n",
    "x_validation = raw_data.reshape(1000,28,28,1)\n",
    "y_validation = raw_labels"
   ]
  },
  {
   "cell_type": "code",
   "execution_count": 12,
   "metadata": {
    "ExecuteTime": {
     "end_time": "2019-02-02T02:40:51.641482Z",
     "start_time": "2019-02-02T02:40:51.314040Z"
    }
   },
   "outputs": [],
   "source": [
    "# Set TF random seed to improve reproducibility\n",
    "tf.set_random_seed(1234)\n",
    "\n",
    "# Retrieve the tensorflow session\n",
    "sess =  backend.get_session()"
   ]
  },
  {
   "cell_type": "code",
   "execution_count": 13,
   "metadata": {
    "ExecuteTime": {
     "end_time": "2019-02-02T02:40:54.939036Z",
     "start_time": "2019-02-02T02:40:51.646425Z"
    }
   },
   "outputs": [
    {
     "name": "stdout",
     "output_type": "stream",
     "text": [
      "The normal validation accuracy is: 0.995\n"
     ]
    }
   ],
   "source": [
    "# Evaluate the model's accuracy on the 1000 images we are taking from training set 0f 60000 images\n",
    "x_validation = x_validation.astype('float32')\n",
    "x_validation /= 255\n",
    "\n",
    "pred = np.argmax(model.predict(x_validation), axis = 1)\n",
    "acc =  np.mean(np.equal(pred, y_validation))\n",
    "\n",
    "print(\"The normal validation accuracy is: {}\".format(acc))"
   ]
  },
  {
   "cell_type": "code",
   "execution_count": null,
   "metadata": {
    "ExecuteTime": {
     "start_time": "2019-02-02T02:41:34.420Z"
    },
    "colab": {},
    "colab_type": "code",
    "id": "pa6rPT53LUW8"
   },
   "outputs": [
    {
     "name": "stderr",
     "output_type": "stream",
     "text": [
      "[INFO 2019-02-02 03:41:34,700 cleverhans] Constructing new graph for attack FastGradientMethod\n"
     ]
    },
    {
     "name": "stdout",
     "output_type": "stream",
     "text": [
      "The adversarial validation accuracy for FGSM is: 0.104\n"
     ]
    }
   ],
   "source": [
    "# Initialize the Fast Gradient Sign Method (FGSM) attack object and \n",
    "# use it to create adversarial examples as numpy arrays.\n",
    "wrap = KerasModelWrapper(model)\n",
    "fgsm = FastGradientMethod(wrap, sess=sess)\n",
    "\n",
    "fgsm_params = {'eps': 0.3,\n",
    "               'clip_min': 0.,\n",
    "               'clip_max': 1.}\n",
    "\n",
    "adv_x = fgsm.generate_np(x_validation, **fgsm_params)\n",
    "\n",
    "adv_pred = np.argmax(model.predict(adv_x), axis = 1)\n",
    "adv_acc =  np.mean(np.equal(adv_pred, y_validation))\n",
    "\n",
    "print(\"The adversarial validation accuracy for FGSM is: {}\".format(adv_acc))"
   ]
  },
  {
   "cell_type": "code",
   "execution_count": null,
   "metadata": {
    "ExecuteTime": {
     "start_time": "2019-02-02T02:41:35.119Z"
    },
    "scrolled": true
   },
   "outputs": [
    {
     "name": "stderr",
     "output_type": "stream",
     "text": [
      "[INFO 2019-02-02 03:42:07,674 cleverhans] Constructing new graph for attack BasicIterativeMethod\n"
     ]
    }
   ],
   "source": [
    "# Initialize the Basic Iterative Method (BIM) attack object and \n",
    "# use it to create adversarial examples as numpy arrays.\n",
    "wrap = KerasModelWrapper(model)\n",
    "bim = BasicIterativeMethod(wrap, sess=sess)\n",
    "\n",
    "bim_params = {'eps': np.float32(0.3),\n",
    "              'eps_iter': 0.03,\n",
    "              'nb_iter': 10,\n",
    "              'clip_min': 0.,\n",
    "              'clip_max': 1.}\n",
    "\n",
    "adv_x2 = bim.generate_np(x_validation, **bim_params)\n",
    "\n",
    "adv_pred2 = np.argmax(model.predict(adv_x2), axis = 1)\n",
    "adv_acc2 =  np.mean(np.equal(adv_pred2, y_validation))\n",
    "\n",
    "print(\"The adversarial validation accuracy for BIM is: {}\".format(adv_acc2))\n"
   ]
  },
  {
   "cell_type": "markdown",
   "metadata": {
    "colab_type": "text",
    "id": "xVH821TOymic"
   },
   "source": [
    "### 1.2.2: Visualizing the results (10 Points)\n",
    "As before, please plot the results from the previous steps. Compare the results to your own attack. Which differences do you observe between the attacks? Why?"
   ]
  },
  {
   "cell_type": "code",
   "execution_count": null,
   "metadata": {
    "ExecuteTime": {
     "start_time": "2019-02-02T02:41:45.448Z"
    },
    "colab": {},
    "colab_type": "code",
    "id": "69nc8PMRymid"
   },
   "outputs": [],
   "source": [
    "seed = 150\n",
    "\n",
    "#True images\n",
    "trueImgs = randSetImgs(x_validation, y_validation, seed)\n",
    "advImgs = randSetImgs(adv_x.reshape(1000,28,28), y_validation, seed)\n",
    "adv2Imgs = randSetImgs(adv_x2.reshape(1000,28,28), y_validation, seed)"
   ]
  },
  {
   "cell_type": "code",
   "execution_count": null,
   "metadata": {},
   "outputs": [],
   "source": [
    "trueImgs.shape"
   ]
  },
  {
   "cell_type": "code",
   "execution_count": 18,
   "metadata": {},
   "outputs": [
    {
     "data": {
      "image/png": "[encoded data removed]",
      "text/plain": [
       "<Figure size 720x576 with 9 Axes>"
      ]
     },
     "metadata": {
      "needs_background": "light"
     },
     "output_type": "display_data"
    }
   ],
   "source": [
    "plot_samples(trueImgs)"
   ]
  },
  {
   "cell_type": "code",
   "execution_count": 19,
   "metadata": {},
   "outputs": [
    {
     "data": {
      "image/png": "[encoded data removed]",
      "text/plain": [
       "<Figure size 720x576 with 9 Axes>"
      ]
     },
     "metadata": {
      "needs_background": "light"
     },
     "output_type": "display_data"
    }
   ],
   "source": [
    "# FGSM adversarial results\n",
    "plot_samples(advImgs)"
   ]
  },
  {
   "cell_type": "code",
   "execution_count": 20,
   "metadata": {},
   "outputs": [
    {
     "data": {
      "image/png": "[encoded data removed]",
      "text/plain": [
       "<Figure size 720x576 with 9 Axes>"
      ]
     },
     "metadata": {
      "needs_background": "light"
     },
     "output_type": "display_data"
    }
   ],
   "source": [
    "# BIM adversarial results\n",
    "plot_samples(adv2Imgs)"
   ]
  },
  {
   "cell_type": "markdown",
   "metadata": {
    "colab_type": "text",
    "id": "KJUmrv5Bymij"
   },
   "source": [
    "\n",
    "# 2. Defending an ML model\n",
    "\n",
    "So far, we have focused on attacking an ML model. In this section, we want you to defend your model. As before concerning the attack, you can chose an example from the lecture, or experiment with any idea you have.\n",
    "\n",
    "We do not require the defense to work perfectly - but what we want you to understand is why it works or why it does not work."
   ]
  },
  {
   "cell_type": "markdown",
   "metadata": {
    "colab_type": "text",
    "id": "0gHUFK6Mymik"
   },
   "source": [
    "### 2.1: Implementing a defense of your choice (25 Points)\n",
    "As stated before, feel free to implement a defense or mitigation of your choice. Evaluate the defense on all adversarial examples you obtained from previous steps of this project and report the results."
   ]
  },
  {
   "cell_type": "code",
   "execution_count": 21,
   "metadata": {},
   "outputs": [],
   "source": [
    "(x_train, y_train), (x_test, y_test) = mnist.load_data()\n",
    "\n",
    "adv_x_train = adv_x.reshape(1000,28,28)[0:900]\n",
    "adv_x2_train = adv_x.reshape(1000,28,28)[0:900]\n",
    "\n",
    "adv_y_train = y_validation[0:900]\n",
    "adv_y2_train = y_validation[0:900]\n",
    "\n",
    "adv_x_test = adv_x.reshape(1000,28,28)[900:]\n",
    "adv_x2_test = adv_x2.reshape(1000,28,28)[900:]\n",
    "\n",
    "adv_y_test = y_validation[900:]\n",
    "adv_y2_test = y_validation[900:]"
   ]
  },
  {
   "cell_type": "code",
   "execution_count": 22,
   "metadata": {},
   "outputs": [],
   "source": [
    "new_x_train = np.concatenate((x_train,adv_x_train, adv_x2_train), axis=0)\n",
    "new_y_train = np.concatenate((y_train, adv_y_train, adv_y2_train), axis=0)\n",
    "\n",
    "new_x_test = np.concatenate((x_test,adv_x_test, adv_x2_test), axis=0)\n",
    "new_y_test = np.concatenate((y_test,adv_y_test,adv_y2_test), axis=0)"
   ]
  },
  {
   "cell_type": "code",
   "execution_count": 23,
   "metadata": {},
   "outputs": [
    {
     "data": {
      "text/plain": [
       "(10200, 28, 28)"
      ]
     },
     "execution_count": 23,
     "metadata": {},
     "output_type": "execute_result"
    }
   ],
   "source": [
    "new_x_test.shape"
   ]
  },
  {
   "cell_type": "code",
   "execution_count": 24,
   "metadata": {},
   "outputs": [],
   "source": [
    "x_train = new_x_train.reshape(61800,28,28,1)\n",
    "x_test = new_x_test.reshape(10200,28,28,1)\n",
    "\n",
    "# Convert class vectors to binary class matrices with one-hot encoding\n",
    "num_classes = 10\n",
    "y_train = keras.utils.to_categorical(new_y_train, num_classes)\n",
    "y_test = keras.utils.to_categorical(new_y_test, num_classes)"
   ]
  },
  {
   "cell_type": "code",
   "execution_count": 26,
   "metadata": {},
   "outputs": [
    {
     "name": "stdout",
     "output_type": "stream",
     "text": [
      "Train on 49440 samples, validate on 12360 samples\n",
      "Epoch 1/4\n",
      "49440/49440 [==============================] - 1183s 24ms/step - loss: 0.2307 - acc: 0.9468 - val_loss: 2.0825 - val_acc: 0.8528\n",
      "Epoch 2/4\n",
      "49440/49440 [==============================] - 1217s 25ms/step - loss: 0.0473 - acc: 0.9870 - val_loss: 2.0027 - val_acc: 0.8571\n",
      "Epoch 3/4\n",
      "49440/49440 [==============================] - 1227s 25ms/step - loss: 0.0351 - acc: 0.9904 - val_loss: 2.1554 - val_acc: 0.8580\n",
      "Epoch 4/4\n",
      "49440/49440 [==============================] - 1227s 25ms/step - loss: 0.0283 - acc: 0.9916 - val_loss: 2.1562 - val_acc: 0.8567\n"
     ]
    }
   ],
   "source": [
    "params={'conv': 32, 'fc_size': 128, 'kernel_size': 3, 'lr': 0.001, 'pool': 2, 'drop1':0.25, 'drop2':0.25}\n",
    "m = build_model(params)\n",
    "h = train(m,epochs=4)"
   ]
  },
  {
   "cell_type": "code",
   "execution_count": 27,
   "metadata": {},
   "outputs": [],
   "source": [
    "m.save('khush_ADV_model.h5')  # creates a HDF5 file "
   ]
  },
  {
   "cell_type": "code",
   "execution_count": 28,
   "metadata": {},
   "outputs": [],
   "source": [
    "keras.backend.set_learning_phase(False)\n",
    "\n",
    "# returns a compiled model\n",
    "model = load_model('khush_ADV_model.h5')"
   ]
  },
  {
   "cell_type": "code",
   "execution_count": 30,
   "metadata": {},
   "outputs": [
    {
     "name": "stdout",
     "output_type": "stream",
     "text": [
      "New test set: 10000 images from mnist test + 200 adversarial images from FGSM & BIM(100 each)\n",
      "The test accuracy on test set with adverasial images is: 0.9727450980392157\n"
     ]
    }
   ],
   "source": [
    "pred = np.argmax(model.predict(new_x_test.reshape(10200,28,28,1)), axis=1)\n",
    "acc =  np.mean(np.equal(pred, new_y_test))\n",
    "\n",
    "print(\"New test set: 10000 images from mnist test + 200 adversarial images from FGSM & BIM(100 each)\")\n",
    "print(\"The test accuracy on test set with adverasial images is: {}\".format(acc))"
   ]
  },
  {
   "cell_type": "code",
   "execution_count": 31,
   "metadata": {},
   "outputs": [
    {
     "name": "stdout",
     "output_type": "stream",
     "text": [
      "Only adversarial test set: 200 adversarial images from FGSM & BIM(100 each)\n",
      "The test accuracy on just the adverasial images is: 0.16\n"
     ]
    }
   ],
   "source": [
    "onlyAdv_x_test = np.concatenate((adv_x_test, adv_x2_test), axis=0)\n",
    "onlyAdv_y_test = np.concatenate((adv_y_test,adv_y2_test), axis=0)\n",
    "\n",
    "pred = np.argmax(model.predict(onlyAdv_x_test.reshape(200,28,28,1)), axis=1)\n",
    "acc =  np.mean(np.equal(pred, onlyAdv_y_test))\n",
    "\n",
    "print(\"Only adversarial test set: 200 adversarial images from FGSM & BIM(100 each)\")\n",
    "print(\"The test accuracy on just the adverasial images is: {}\".format(acc))"
   ]
  },
  {
   "cell_type": "markdown",
   "metadata": {
    "colab_type": "text",
    "id": "sIMRqecuymir"
   },
   "source": [
    "### 2.2: Conclusions (15 Points)\n",
    "Please interpret the results of your defense here. What did you try to make the classifier more robust? Why did it work? Is the classifier now robust?\n",
    "\n",
    "Feel free to state any interesting finding you encountered during this project."
   ]
  },
  {
   "cell_type": "markdown",
   "metadata": {
    "colab": {},
    "colab_type": "code",
    "id": "scROCZjDymit"
   },
   "source": [
    "We formed the training set for adversarial training from the 60000 train images from MNIST and the 1800 perturbed images we obtained from FGSM and BIM (900 from each). Ideally, we should have obtained perturbed images for all of the 60000 train images. \n",
    "\n",
    "We formed the test set with 10000 test images from mnist and 200 perturbed images from FGSM and BIM.\n",
    "\n",
    "We ran the model only for 4 epochs when performing adversarial training due to time constraints.\n",
    "\n",
    "With just this small addition to the dataset and just 4 epochs the  the accuracy increases from .104(FGSM) and .005(BIM) to .16(on both FGSM and BIM adversaries combined). This makes the classifier more robust.\n",
    "\n",
    "We realize that this could have been done for the entire dataset - so have 60k adverserally perturbed images- and to make it more robust- people can make adverserial pertubations using FGSM, BIM, Projected Gradient Descent method and so on. Doing this would make our classifier more robust."
   ]
  },
  {
   "cell_type": "code",
   "execution_count": null,
   "metadata": {},
   "outputs": [],
   "source": []
  },
  {
   "cell_type": "code",
   "execution_count": null,
   "metadata": {},
   "outputs": [],
   "source": []
  },
  {
   "cell_type": "code",
   "execution_count": null,
   "metadata": {},
   "outputs": [],
   "source": []
  }
 ],
 "metadata": {
  "colab": {
   "collapsed_sections": [],
   "name": "Project_2_-_Template_hand-out.ipynb",
   "provenance": [],
   "version": "0.3.2"
  },
  "kernelspec": {
   "display_name": "Python 3",
   "language": "python",
   "name": "python3"
  },
  "language_info": {
   "codemirror_mode": {
    "name": "ipython",
    "version": 3
   },
   "file_extension": ".py",
   "mimetype": "text/x-python",
   "name": "python",
   "nbconvert_exporter": "python",
   "pygments_lexer": "ipython3",
   "version": "3.6.4"
  },
  "toc": {
   "base_numbering": 1,
   "nav_menu": {},
   "number_sections": true,
   "sideBar": true,
   "skip_h1_title": false,
   "title_cell": "Table of Contents",
   "title_sidebar": "Contents",
   "toc_cell": false,
   "toc_position": {},
   "toc_section_display": true,
   "toc_window_display": false
  }
 },
 "nbformat": 4,
 "nbformat_minor": 1
}
